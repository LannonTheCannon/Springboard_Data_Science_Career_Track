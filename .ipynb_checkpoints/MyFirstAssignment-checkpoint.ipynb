{
 "cells": [
  {
   "cell_type": "markdown",
   "id": "da7f02d9",
   "metadata": {},
   "source": [
    "# An assignment "
   ]
  },
  {
   "cell_type": "markdown",
   "id": "c0308045",
   "metadata": {},
   "source": [
    "Modification :)"
   ]
  }
 ],
 "metadata": {
  "kernelspec": {
   "display_name": "Python 3",
   "language": "python",
   "name": "python3"
  },
  "language_info": {
   "codemirror_mode": {
    "name": "ipython",
    "version": 3
   },
   "file_extension": ".py",
   "mimetype": "text/x-python",
   "name": "python",
   "nbconvert_exporter": "python",
   "pygments_lexer": "ipython3",
   "version": "3.8.8"
  }
 },
 "nbformat": 4,
 "nbformat_minor": 5
}
